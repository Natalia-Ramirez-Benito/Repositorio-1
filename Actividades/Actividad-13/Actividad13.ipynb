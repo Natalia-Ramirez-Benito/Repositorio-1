{
 "cells": [
  {
   "cell_type": "markdown",
   "id": "efaac56d",
   "metadata": {},
   "source": [
    "https://valeriemoreau.com/"
   ]
  },
  {
   "cell_type": "code",
   "execution_count": 3,
   "id": "353520a4",
   "metadata": {},
   "outputs": [
    {
     "name": "stdout",
     "output_type": "stream",
     "text": [
      "Enter URL:- https://valeriemoreau.com/\n",
      "Enter Folder Name:- valerie\n",
      "Total 35 Image Found!\n",
      "Total 29 Images Downloaded Out of 35\n"
     ]
    }
   ],
   "source": [
    "from bs4 import *\n",
    "import requests\n",
    "import os\n",
    "\n",
    "\n",
    "def folder_create(images):\n",
    "    try:\n",
    "        folder_name = input(\"Enter Folder Name:- \")\n",
    "\n",
    "        os.mkdir(folder_name)\n",
    "\n",
    "\n",
    "    except:\n",
    "        print(\"Folder Exist with that name!\")\n",
    "        folder_create()\n",
    "\n",
    "    download_images(images, folder_name)\n",
    "\n",
    "\n",
    "def download_images(images, folder_name):\n",
    "    count = 0\n",
    "\n",
    "    print(f\"Total {len(images)} Image Found!\")\n",
    "\n",
    "    if len(images) != 0:\n",
    "        for i, image in enumerate(images):\n",
    "\n",
    "            try:\n",
    "\n",
    "                image_link = image[\"data-srcset\"]\n",
    "\n",
    "\n",
    "\n",
    "            except:\n",
    "                try:\n",
    "\n",
    "                    image_link = image[\"data-src\"]\n",
    "                except:\n",
    "                    try:\n",
    "\n",
    "                        image_link = image[\"data-fallback-src\"]\n",
    "                    except:\n",
    "                        try:\n",
    "\n",
    "                            image_link = image[\"src\"]\n",
    "\n",
    "\n",
    "                        except:\n",
    "                            pass\n",
    "\n",
    "            try:\n",
    "                r = requests.get(image_link).content\n",
    "                try:\n",
    "\n",
    "                    r = str(r, 'utf-8')\n",
    "\n",
    "                except UnicodeDecodeError:\n",
    "\n",
    "                    with open(f\"{folder_name}/images{i + 1}.jpg\", \"wb+\") as f:\n",
    "                        f.write(r)\n",
    "\n",
    "                    count += 1\n",
    "            except:\n",
    "                pass\n",
    "\n",
    "        if count == len(images):\n",
    "            print(\"All Images Downloaded!\")\n",
    "\n",
    "\n",
    "        else:\n",
    "            print(f\"Total {count} Images Downloaded Out of {len(images)}\")\n",
    "\n",
    "\n",
    "def main(url):\n",
    "    r = requests.get(url)\n",
    "\n",
    "    soup = BeautifulSoup(r.text, 'html.parser')\n",
    "\n",
    "    images = soup.findAll('img')\n",
    "\n",
    "    folder_create(images)\n",
    "\n",
    "\n",
    "url = input(\"Enter URL:- \")\n",
    "\n",
    "main(url) "
   ]
  },
  {
   "cell_type": "code",
   "execution_count": null,
   "id": "c036d94d",
   "metadata": {},
   "outputs": [],
   "source": []
  }
 ],
 "metadata": {
  "kernelspec": {
   "display_name": "Python 3 (ipykernel)",
   "language": "python",
   "name": "python3"
  },
  "language_info": {
   "codemirror_mode": {
    "name": "ipython",
    "version": 3
   },
   "file_extension": ".py",
   "mimetype": "text/x-python",
   "name": "python",
   "nbconvert_exporter": "python",
   "pygments_lexer": "ipython3",
   "version": "3.9.13"
  }
 },
 "nbformat": 4,
 "nbformat_minor": 5
}
