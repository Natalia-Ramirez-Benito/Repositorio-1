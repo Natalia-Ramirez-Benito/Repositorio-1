{
 "cells": [
  {
   "cell_type": "markdown",
   "id": "6858835f",
   "metadata": {},
   "source": [
    "Buscar en internet una imagen formato png\n",
    "Guardar en la carpeta C:\\Users\\Tecnicos\\Desktop\\Carmelo\\Programacion\\jupyter\n",
    "dentro de esto...tengo una carpeta creada por python llamada fotos\n",
    "y ahí guardas la imagen png de internet con el nombre prueba.png\n",
    "\n",
    "nombre de la imagen guardada será:\n",
    "prueba_xxxx.png\n",
    "xxxx los milisegundos desde 1-1-1970\n",
    "datetime now la fecha actual: convertirlo a milisegundos"
   ]
  },
  {
   "cell_type": "code",
   "execution_count": 31,
   "id": "90770fa5",
   "metadata": {},
   "outputs": [
    {
     "name": "stdout",
     "output_type": "stream",
     "text": [
      "imagen guardada\n"
     ]
    }
   ],
   "source": [
    "import os\n",
    "import requests\n",
    "from datetime import datetime\n",
    "\n",
    "imagen_internet='https://www.pngfind.com/pngs/m/333-3330324_imagenes-en-png-con-fondo-transparente-johns-hopkins.png'\n",
    "ruta='C:\\\\Users\\\\Tecnicos\\\\Desktop\\\\Natalia\\\\Programación\\\\Jupyter\\\\'\n",
    "carpeta_nueva=ruta+'fotos'\n",
    "if os.path.isdir(carpeta_nueva)!=True:\n",
    "    os.mkdir(carpeta_nueva)\n",
    "#print(os.path.isdir(carpeta_nueva))\n",
    "\n",
    "milisegundos=str(datetime.now().timestamp())\n",
    "imagen_guardada=carpeta_nueva+'\\\\prueba'+milisegundos+'.png'\n",
    "peticion=requests.get(imagen_internet).content\n",
    "with open(imagen_guardada, 'wb') as x:\n",
    "    x.write(peticion)\n",
    "print('imagen guardada')"
   ]
  },
  {
   "cell_type": "code",
   "execution_count": null,
   "id": "615f6192",
   "metadata": {},
   "outputs": [],
   "source": []
  }
 ],
 "metadata": {
  "kernelspec": {
   "display_name": "Python 3 (ipykernel)",
   "language": "python",
   "name": "python3"
  },
  "language_info": {
   "codemirror_mode": {
    "name": "ipython",
    "version": 3
   },
   "file_extension": ".py",
   "mimetype": "text/x-python",
   "name": "python",
   "nbconvert_exporter": "python",
   "pygments_lexer": "ipython3",
   "version": "3.9.13"
  }
 },
 "nbformat": 4,
 "nbformat_minor": 5
}
